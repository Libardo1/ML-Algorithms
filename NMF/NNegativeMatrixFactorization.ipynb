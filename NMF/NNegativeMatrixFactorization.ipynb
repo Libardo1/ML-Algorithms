{
 "cells": [
  {
   "cell_type": "markdown",
   "metadata": {},
   "source": [
    "# Non-Negative Matrix Factorization"
   ]
  },
  {
   "cell_type": "code",
   "execution_count": 1,
   "metadata": {
    "collapsed": true
   },
   "outputs": [],
   "source": [
    "import numpy as np\n",
    "import pandas as pd\n",
    "from sklearn.decomposition import NMF\n",
    "import random as rd\n",
    "import seaborn as sns\n",
    "import matplotlib.pyplot as plt\n",
    "import matplotlib\n",
    "from sklearn.feature_extraction.text import CountVectorizer, TfidfVectorizer\n",
    "from sklearn.preprocessing import LabelEncoder\n",
    "sns.set_style(style='white')\n",
    "%matplotlib inline\n",
    "matplotlib.rcParams['figure.figsize'] = (8.0, 6.0)"
   ]
  },
  {
   "cell_type": "markdown",
   "metadata": {},
   "source": [
    "# Preprocessing"
   ]
  },
  {
   "cell_type": "code",
   "execution_count": 2,
   "metadata": {
    "collapsed": false
   },
   "outputs": [],
   "source": [
    "data = pd.read_pickle(\"../4_2_DiscriminativeClassifers/data/articles.pkl\")"
   ]
  },
  {
   "cell_type": "code",
   "execution_count": 3,
   "metadata": {
    "collapsed": false,
    "scrolled": true
   },
   "outputs": [
    {
     "name": "stdout",
     "output_type": "stream",
     "text": [
      "0 row isn't unicode\n"
     ]
    }
   ],
   "source": [
    "import ftfy\n",
    "data['content'] = data['content'].apply(lambda x: ftfy.fix_text(x)\n",
    "                                        if isinstance(x, unicode)\n",
    "                                        else \"Warning: not Unicode\")\n",
    "\n",
    "data = data[data['content'] != \"Warning: not Unicode\"]\n",
    "print(\"{} row isn't unicode\".format(sum(data['content'] == \"Warning: not Unicode\")))"
   ]
  },
  {
   "cell_type": "markdown",
   "metadata": {},
   "source": [
    "# Section Names"
   ]
  },
  {
   "cell_type": "code",
   "execution_count": 4,
   "metadata": {
    "collapsed": false,
    "scrolled": true
   },
   "outputs": [
    {
     "name": "stdout",
     "output_type": "stream",
     "text": [
      "0 : Arts\n",
      "1 : Books\n",
      "2 : Business Day\n",
      "3 : Magazine\n",
      "4 : Opinion\n",
      "5 : Real Estate\n",
      "6 : Sports\n",
      "7 : Travel\n",
      "8 : U.S.\n",
      "9 : World\n"
     ]
    }
   ],
   "source": [
    "vectLabel = LabelEncoder()\n",
    "y = vectLabel.fit_transform(data.section_name)\n",
    "\n",
    "for section in vectLabel.classes_:\n",
    "    print vectLabel.transform(section), \":\",section"
   ]
  },
  {
   "cell_type": "code",
   "execution_count": 5,
   "metadata": {
    "collapsed": false
   },
   "outputs": [],
   "source": [
    "X = data.content\n",
    "vect = TfidfVectorizer(max_df=0.99,\n",
    "                        min_df=2,\n",
    "                        max_features=5000,\n",
    "                        stop_words='english')\n",
    "\n",
    "X_vect = vect.fit_transform(X).toarray()\n",
    "\n",
    "feature_names = vect.get_feature_names()"
   ]
  },
  {
   "cell_type": "markdown",
   "metadata": {},
   "source": [
    "# Euclidean Distance"
   ]
  },
  {
   "cell_type": "markdown",
   "metadata": {},
   "source": [
    "We want to aproximate:\n",
    "\n",
    "$$V \\simeq HW$$\n",
    "We'll be using two algorithm described in the paper [Algorithms for Non-negative Matrix\n",
    "Factorization](http://citeseerx.ist.psu.edu/viewdoc/download?doi=10.1.1.31.7566&rep=rep1&type=pdf) by *Daniel D. Lee Bell Laboratories* and *H. Sebastian Seung, MIT*.\n",
    "\n",
    "The first one will be the square of the Euclidean distance between $V$ and $HW$:"
   ]
  },
  {
   "cell_type": "markdown",
   "metadata": {},
   "source": [
    "![](images/Euclidean1.png)\n",
    "![](images/Euclidean2.png)"
   ]
  },
  {
   "cell_type": "markdown",
   "metadata": {},
   "source": [
    "# Divergense"
   ]
  },
  {
   "cell_type": "markdown",
   "metadata": {},
   "source": [
    "Divergence between two distributions lower bounded by zero, and vanishes if and only\n",
    "if A = B. It doesn't really represent a \"distance\" because it is not symmetric. If the matrix are normalized this simplify to the Kullback-Leibler divergence, or relative entropy.\n"
   ]
  },
  {
   "cell_type": "markdown",
   "metadata": {},
   "source": [
    "![](images/Divergense1.png)\n",
    "![](images/Divergense2.png)"
   ]
  },
  {
   "cell_type": "markdown",
   "metadata": {},
   "source": [
    "![](images/KL-Gauss-Example.png)"
   ]
  },
  {
   "cell_type": "code",
   "execution_count": 6,
   "metadata": {
    "collapsed": false
   },
   "outputs": [],
   "source": [
    "class NNegativeMatrixFactorization():\n",
    "    def __init__(self, V, n_topics):\n",
    "        self.V = V\n",
    "        \n",
    "        self.numDoc, self.numWord = V.shape\n",
    "        self.numTopic = n_topics\n",
    "        \n",
    "        self.H = np.random.rand(self.numDoc, self.numTopic)\n",
    "        self.W = np.random.rand(self.numTopic, self.numWord)\n",
    "        \n",
    "        self.cost_list = []\n",
    "        \n",
    "    def cost(self):\n",
    "        V_hat = self.H.dot(self.W)\n",
    "        return np.linalg.norm(self.V - V_hat)**2\n",
    "    \n",
    "    def costDivergence(self):\n",
    "        V_hat = self.H.dot(self.W)\n",
    "        return np.sum(self.V * np.log(self.V / V_hat) - self.V + V_hat)\n",
    "    \n",
    "    def EuclideanDistance(self, num_iterations):\n",
    "        for _ in xrange(num_iterations):\n",
    "            self.W *= self.H.T.dot(self.V) / self.H.T.dot(self.H).dot(self.W)\n",
    "            self.H *= self.V.dot(self.W.T) / self.H.dot(self.W).dot(self.W.T)\n",
    "            self.cost_list.append(self.cost())\n",
    "            \n",
    "    \n",
    "    def Divergence(self, num_iterations):\n",
    "        for _ in xrange(num_iterations):\n",
    "            for k in xrange(self.numTopic):\n",
    "                for w in xrange(self.numWord):\n",
    "                    self.W[k,w] *= sum(self.H[:,k] * self.V[:,w] /\n",
    "                                       self.H.dot(self.W)[:,w]) / sum(self.H[:,k])\n",
    "                    \n",
    "                for d in xrange(self.numDoc):\n",
    "                    self.H[d,k] *= sum(self.W[k,:] * self.V[d,:] /\n",
    "                                       self.H.dot(self.W)[d,:]) / sum(self.W[k,:])\n",
    "      \n",
    "            self.cost_list.append(self.costDivergence())\n",
    "\n",
    "    def run(self, num_iterations, update_type = \"euclidean\"):\n",
    "        if update_type == \"euclidean\":\n",
    "            self.EuclideanDistance(num_iterations)\n",
    "        elif update_type == \"divergence\":\n",
    "            self.Divergence(num_iterations)\n",
    "            \n",
    "    def clusters(self, n_top_words, n_top_topics):\n",
    "        docs = np.argsort(self.H, 0)[::-1, :n_top_topics]\n",
    "        words = np.argsort(self.W, 1)[::-1, :n_top_words]\n",
    "        return docs, words"
   ]
  },
  {
   "cell_type": "code",
   "execution_count": 7,
   "metadata": {
    "collapsed": false,
    "scrolled": true
   },
   "outputs": [],
   "source": [
    "NMF = NNegativeMatrixFactorization(X_vect, n_topics = 10)\n",
    "NMF.run(num_iterations = 80, update_type = \"euclidean\")\n",
    "Euclidean_cost = NMF.cost_list\n",
    "Edocs, Ewords = NMF.clusters(n_top_words = 10, n_top_topics = 10)"
   ]
  },
  {
   "cell_type": "code",
   "execution_count": 8,
   "metadata": {
    "collapsed": false
   },
   "outputs": [],
   "source": [
    "# NMF = NNegativeMatrixFactorization(X_vect, n_topics = 10)\n",
    "# NMF.run(num_iterations = 80, update_type = \"divergence\")\n",
    "# Divergence_cost = NMF.cost_list\n",
    "# Ddocs, Dwords = NMF.clusters(n_top_words = 10, n_top_topics = 3)"
   ]
  },
  {
   "cell_type": "code",
   "execution_count": 9,
   "metadata": {
    "collapsed": false
   },
   "outputs": [
    {
     "data": {
      "image/png": "[encoded data removed]",
      "text/plain": [
       "<matplotlib.figure.Figure at 0x1126cef50>"
      ]
     },
     "metadata": {},
     "output_type": "display_data"
    }
   ],
   "source": [
    "plt.plot(xrange(len(Euclidean_cost)), Euclidean_cost)\n",
    "#plt.plot(xrange(len(Divergence_cost)), Divergence_cost)\n",
    "plt.legend([\"Euclidean Distance\", \"Divergence\"])\n",
    "plt.xlabel(\"Iteration\")\n",
    "plt.ylabel(\"Cost\")\n",
    "plt.title(\"Cost Descent\");"
   ]
  },
  {
   "cell_type": "code",
   "execution_count": 10,
   "metadata": {
    "collapsed": false
   },
   "outputs": [
    {
     "name": "stdout",
     "output_type": "stream",
     "text": [
      "Topic #1:\n",
      "clemens, baradar, mccutcheon, medicaid, gbagbo, sadr, snee, baa, brewer, punt\n",
      "\n",
      "Topic #2:\n",
      "zorn, violin, cello, magritte, mandala, typhoon, philharmonic, balthus, promoter, bp\n",
      "\n",
      "Topic #3:\n",
      "zorn, magritte, ncis, onegin, clemens, philharmonic, balthus, vampire, cello, tharp\n",
      "\n",
      "Topic #4:\n",
      "magritte, tharp, oriole, athens, balanchine, drake, capuano, mclaren, clemens, freddie\n",
      "\n",
      "Topic #5:\n",
      "zorn, balthus, philharmonic, magritte, tharp, volkswagen, gilligan, drake, koch, ballad\n",
      "\n",
      "Topic #6:\n",
      "baradar, fallon, berlusconi, clemens, letta, onegin, kenyatta, jamal, homered, philharmonic\n",
      "\n",
      "Topic #7:\n",
      "philharmonic, onegin, balthus, tharp, zorn, magritte, vampire, gala, melody, gilbert\n",
      "\n",
      "Topic #8:\n",
      "sadr, kenyatta, clemens, baradar, gbagbo, peshawar, hague, islamabad, tharp, baghdad\n",
      "\n",
      "Topic #9:\n",
      "clemens, oriole, touchdown, longoria, waiver, brewer, tannehill, vaccine, strikeout, snee\n",
      "\n",
      "Topic #10:\n",
      "baradar, gbagbo, sadr, kenyatta, tharp, vs, tannehill, interception, peshawar, fumble\n",
      "\n"
     ]
    }
   ],
   "source": [
    "for topic_idx, words in enumerate(Ewords):\n",
    "    print(\"Topic #{}:\".format(topic_idx + 1))\n",
    "    print(\", \".join([feature_names[i] for i in words]))\n",
    "    print(\"\")"
   ]
  },
  {
   "cell_type": "code",
   "execution_count": 11,
   "metadata": {
    "collapsed": false,
    "scrolled": false
   },
   "outputs": [
    {
     "name": "stdout",
     "output_type": "stream",
     "text": [
      "Doc #1:\n",
      "collective, art, bos, buried, definition, destruction, damascus, 53, designer, acknowledged\n",
      "\n",
      "Doc #2:\n",
      "compelling, bid, commentator, challenge, detention, big, devil, 20th, baltimore, caused\n",
      "\n",
      "Doc #3:\n",
      "barred, beginning, destination, concerning, announce, award, desire, actually, 82, backing\n",
      "\n",
      "Doc #4:\n",
      "control, citizen, counterterrorism, converted, biological, badly, carter, daughter, arrive, bruce\n",
      "\n",
      "Doc #5:\n",
      "armed, believe, core, block, april, cultural, demonstrated, clothing, alitalia, crucial\n",
      "\n",
      "Doc #6:\n",
      "british, culture, alcohol, command, busy, bathroom, attacked, causing, devoted, class\n",
      "\n",
      "Doc #7:\n",
      "born, aimed, affair, 2010, based, active, 1913, buffalo, 1998, concluded\n",
      "\n",
      "Doc #8:\n",
      "attacking, competition, 70, clubhouse, artist, box, americans, 1996, denver, commissioned\n",
      "\n",
      "Doc #9:\n",
      "baghdad, cohen, cleared, assume, agreement, 1992, aren, destructive, cutting, breakfast\n",
      "\n",
      "Doc #10:\n",
      "angel, aircraft, buying, briefly, destroy, car, appreciate, automobile, cycle, athens\n",
      "\n"
     ]
    }
   ],
   "source": [
    "for topic_idx, docs in enumerate(Edocs[:10]):\n",
    "    print(\"Doc #{}:\".format(topic_idx + 1))\n",
    "    print(\", \".join([feature_names[i] for i in docs]))\n",
    "    print(\"\")"
   ]
  }
 ],
 "metadata": {
  "kernelspec": {
   "display_name": "Python 2",
   "language": "python",
   "name": "python2"
  },
  "language_info": {
   "codemirror_mode": {
    "name": "ipython",
    "version": 2
   },
   "file_extension": ".py",
   "mimetype": "text/x-python",
   "name": "python",
   "nbconvert_exporter": "python",
   "pygments_lexer": "ipython2",
   "version": "2.7.10"
  }
 },
 "nbformat": 4,
 "nbformat_minor": 0
}
