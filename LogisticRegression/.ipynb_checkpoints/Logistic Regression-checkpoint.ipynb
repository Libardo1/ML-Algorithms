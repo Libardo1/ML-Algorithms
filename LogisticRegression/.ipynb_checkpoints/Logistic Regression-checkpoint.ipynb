{
 "cells": [
  {
   "cell_type": "markdown",
   "metadata": {},
   "source": [
    "# Logistic Regression"
   ]
  },
  {
   "cell_type": "markdown",
   "metadata": {},
   "source": [
    "## Gradient Descent"
   ]
  },
  {
   "cell_type": "markdown",
   "metadata": {},
   "source": [
    "The hypothesis function of logistic regression is defined as follows:\n",
    "\n",
    "$$h_{\\theta}(x) = \\dfrac{1}{1+e^{\\theta^{T}x}}$$\n",
    "\n",
    "The cost function we will be using is the *log likelihood*. The goal is to **maximize** this value, so the implementation will be a gradient *ascent*.\n",
    "\n",
    "$$l(\\theta) = \\sum_{x \\in X}y\\ ln(h_{\\theta}(x))+(1-y)\\ ln(1-h_{\\theta}(x))$$\n",
    "\n",
    "The gradient and update step is as follows:\n",
    "\n",
    "$$\\theta_{j}(k+1) = \\theta_{j}(k)+\\alpha \\sum_{i=1}^{M}(y^{(i)}-h_{\\theta}(x^{(i)}))x_j$$"
   ]
  },
  {
   "cell_type": "code",
   "execution_count": 1,
   "metadata": {
    "collapsed": true
   },
   "outputs": [],
   "source": [
    "from sklearn.datasets import make_classification\n",
    "import numpy as np\n",
    "import matplotlib.pyplot as plt\n",
    "import seaborn as sns\n",
    "import pandas as pd\n",
    "%matplotlib inline"
   ]
  },
  {
   "cell_type": "code",
   "execution_count": 2,
   "metadata": {
    "collapsed": true
   },
   "outputs": [],
   "source": [
    "# Create a toy dataset\n",
    "X, y = make_classification(n_samples=100,\n",
    "                           n_features=2, \n",
    "                           n_informative=2, \n",
    "                           n_redundant=0, \n",
    "                           n_classes=2, \n",
    "                           random_state=0)"
   ]
  },
  {
   "cell_type": "code",
   "execution_count": 3,
   "metadata": {
    "collapsed": false
   },
   "outputs": [
    {
     "data": {
      "text/html": [
       "<div>\n",
       "<table border=\"1\" class=\"dataframe\">\n",
       "  <thead>\n",
       "    <tr style=\"text-align: right;\">\n",
       "      <th></th>\n",
       "      <th>Target</th>\n",
       "      <th>Feat1</th>\n",
       "      <th>Feat2</th>\n",
       "    </tr>\n",
       "  </thead>\n",
       "  <tbody>\n",
       "    <tr>\n",
       "      <th>0</th>\n",
       "      <td>0</td>\n",
       "      <td>-0.766055</td>\n",
       "      <td>0.183325</td>\n",
       "    </tr>\n",
       "    <tr>\n",
       "      <th>1</th>\n",
       "      <td>0</td>\n",
       "      <td>-0.920383</td>\n",
       "      <td>-0.072317</td>\n",
       "    </tr>\n",
       "    <tr>\n",
       "      <th>2</th>\n",
       "      <td>0</td>\n",
       "      <td>-0.986585</td>\n",
       "      <td>-0.286920</td>\n",
       "    </tr>\n",
       "    <tr>\n",
       "      <th>3</th>\n",
       "      <td>1</td>\n",
       "      <td>1.709102</td>\n",
       "      <td>-1.104540</td>\n",
       "    </tr>\n",
       "    <tr>\n",
       "      <th>4</th>\n",
       "      <td>1</td>\n",
       "      <td>1.987647</td>\n",
       "      <td>1.776245</td>\n",
       "    </tr>\n",
       "  </tbody>\n",
       "</table>\n",
       "</div>"
      ],
      "text/plain": [
       "   Target     Feat1     Feat2\n",
       "0       0 -0.766055  0.183325\n",
       "1       0 -0.920383 -0.072317\n",
       "2       0 -0.986585 -0.286920\n",
       "3       1  1.709102 -1.104540\n",
       "4       1  1.987647  1.776245"
      ]
     },
     "execution_count": 3,
     "metadata": {},
     "output_type": "execute_result"
    }
   ],
   "source": [
    "data = pd.DataFrame(np.vstack((y, X.T)).T, columns=['Target', 'Feat1', 'Feat2'])\n",
    "data.head()"
   ]
  },
  {
   "cell_type": "code",
   "execution_count": 4,
   "metadata": {
    "collapsed": false
   },
   "outputs": [
    {
     "data": {
      "image/png": "[encoded data removed]",
      "text/plain": [
       "<matplotlib.figure.Figure at 0x11173ecd0>"
      ]
     },
     "metadata": {},
     "output_type": "display_data"
    }
   ],
   "source": [
    "sns.lmplot(x=\"Feat1\", y=\"Feat2\", hue=\"Target\", data=data, fit_reg= False, markers='o');"
   ]
  },
  {
   "cell_type": "code",
   "execution_count": 5,
   "metadata": {
    "collapsed": true
   },
   "outputs": [],
   "source": [
    "# Import home-made logistic regression function\n",
    "from logistic_regression_functions import *\n",
    "from gradient_ascent import GradientAscent"
   ]
  },
  {
   "cell_type": "code",
   "execution_count": 6,
   "metadata": {
    "collapsed": true
   },
   "outputs": [],
   "source": [
    "# save cost, gradient and prediction functions\n",
    "cost = log_likelihood\n",
    "gradient = log_likelihood_gradient\n",
    "predict_func = predict"
   ]
  },
  {
   "cell_type": "code",
   "execution_count": 7,
   "metadata": {
    "collapsed": false,
    "scrolled": true
   },
   "outputs": [
    {
     "name": "stdout",
     "output_type": "stream",
     "text": [
      "Starting Gradient Ascent with theta = [-0.54699786  0.46673587] and cost = -1.03583681742\n",
      "Running...\n",
      "After 1000 iterations: theta = [ 2.66721053  0.59685954] and cost = -0.291125158646\n",
      "*******************************\n",
      "Accuracy:  0.89\n",
      "Precision:  0.953488372093\n",
      "Recall: 0.82\n"
     ]
    }
   ],
   "source": [
    "# Instantiate and run model on data\n",
    "model = GradientAscent(cost, gradient, predict_func)\n",
    "model.run(X, y, alpha=0.001, num_iterations=1000)\n",
    "\n",
    "# model predictions\n",
    "y_pred = model.predict(X)\n",
    "\n",
    "print \"*******************************\"\n",
    "print \"Accuracy: \", accuracy(y,y_pred)\n",
    "print \"Precision: \", precision(y,y_pred)\n",
    "print \"Recall:\", recall(y,y_pred)"
   ]
  },
  {
   "cell_type": "code",
   "execution_count": 12,
   "metadata": {
    "collapsed": false
   },
   "outputs": [
    {
     "data": {
      "image/png": "[encoded data removed]",
      "text/plain": [
       "<matplotlib.figure.Figure at 0x1139eecd0>"
      ]
     },
     "metadata": {},
     "output_type": "display_data"
    }
   ],
   "source": [
    "# graph the decision boundary \n",
    "\n",
    "#x = np.linspace(X.min(), X.max(), 100)\n",
    "x = np.linspace(-1, 1, 100)\n",
    "theta = model.coeffs\n",
    "\n",
    "sns.lmplot(x=\"Feat1\", y=\"Feat2\", hue=\"Target\", data=data, fit_reg= False, markers='o')\n",
    "plt.plot(x,(-theta[0]/theta[1])*x, c = 'black')\n",
    "plt.show()"
   ]
  }
 ],
 "metadata": {
  "kernelspec": {
   "display_name": "Python 2",
   "language": "python",
   "name": "python2"
  },
  "language_info": {
   "codemirror_mode": {
    "name": "ipython",
    "version": 2
   },
   "file_extension": ".py",
   "mimetype": "text/x-python",
   "name": "python",
   "nbconvert_exporter": "python",
   "pygments_lexer": "ipython2",
   "version": "2.7.10"
  }
 },
 "nbformat": 4,
 "nbformat_minor": 0
}
