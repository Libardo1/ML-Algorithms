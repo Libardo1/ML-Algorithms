{
 "cells": [
  {
   "cell_type": "markdown",
   "metadata": {},
   "source": [
    "# Logistic Regression"
   ]
  },
  {
   "cell_type": "markdown",
   "metadata": {},
   "source": [
    "## Gradient Descent"
   ]
  },
  {
   "cell_type": "markdown",
   "metadata": {},
   "source": [
    "The hypothesis function of logistic regression is defined as follows:\n",
    "\n",
    "$$h_{\\theta}(x) = \\dfrac{1}{1+e^{\\theta^{T}x}}$$\n",
    "\n",
    "The cost function we will be using is the *log likelihood*. The goal is to **maximize** this value, so the implementation will be a gradient *ascent*.\n",
    "\n",
    "$$l(\\theta) = \\sum_{x \\in X}y\\ ln(h_{\\theta}(x))+(1-y)\\ ln(1-h_{\\theta}(x))$$\n",
    "\n",
    "The gradient and update step is as follows:\n",
    "\n",
    "$$\\theta_{j}(k+1) = \\theta_{j}(k)+\\alpha \\sum_{i=1}^{M}(y^{(i)}-h_{\\theta}(x^{(i)}))x_j$$"
   ]
  },
  {
   "cell_type": "code",
   "execution_count": 1,
   "metadata": {
    "collapsed": true
   },
   "outputs": [],
   "source": [
    "from sklearn.datasets import make_classification\n",
    "import numpy as np\n",
    "import matplotlib.pyplot as plt\n",
    "import seaborn as sns\n",
    "import pandas as pd\n",
    "%matplotlib inline"
   ]
  },
  {
   "cell_type": "code",
   "execution_count": 2,
   "metadata": {
    "collapsed": true
   },
   "outputs": [],
   "source": [
    "# Create a toy dataset\n",
    "X1, y1 = make_classification(n_samples=100,\n",
    "                           n_features=2, \n",
    "                           n_informative=2, \n",
    "                           n_redundant=0, \n",
    "                           n_classes=2, \n",
    "                           random_state=0)"
   ]
  },
  {
   "cell_type": "code",
   "execution_count": 3,
   "metadata": {
    "collapsed": false
   },
   "outputs": [
    {
     "data": {
      "text/html": [
       "<div>\n",
       "<table border=\"1\" class=\"dataframe\">\n",
       "  <thead>\n",
       "    <tr style=\"text-align: right;\">\n",
       "      <th></th>\n",
       "      <th>Target</th>\n",
       "      <th>Feat1</th>\n",
       "      <th>Feat2</th>\n",
       "    </tr>\n",
       "  </thead>\n",
       "  <tbody>\n",
       "    <tr>\n",
       "      <th>0</th>\n",
       "      <td>0</td>\n",
       "      <td>-0.766055</td>\n",
       "      <td>0.183325</td>\n",
       "    </tr>\n",
       "    <tr>\n",
       "      <th>1</th>\n",
       "      <td>0</td>\n",
       "      <td>-0.920383</td>\n",
       "      <td>-0.072317</td>\n",
       "    </tr>\n",
       "    <tr>\n",
       "      <th>2</th>\n",
       "      <td>0</td>\n",
       "      <td>-0.986585</td>\n",
       "      <td>-0.286920</td>\n",
       "    </tr>\n",
       "    <tr>\n",
       "      <th>3</th>\n",
       "      <td>1</td>\n",
       "      <td>1.709102</td>\n",
       "      <td>-1.104540</td>\n",
       "    </tr>\n",
       "    <tr>\n",
       "      <th>4</th>\n",
       "      <td>1</td>\n",
       "      <td>1.987647</td>\n",
       "      <td>1.776245</td>\n",
       "    </tr>\n",
       "  </tbody>\n",
       "</table>\n",
       "</div>"
      ],
      "text/plain": [
       "   Target     Feat1     Feat2\n",
       "0       0 -0.766055  0.183325\n",
       "1       0 -0.920383 -0.072317\n",
       "2       0 -0.986585 -0.286920\n",
       "3       1  1.709102 -1.104540\n",
       "4       1  1.987647  1.776245"
      ]
     },
     "execution_count": 3,
     "metadata": {},
     "output_type": "execute_result"
    }
   ],
   "source": [
    "data1 = pd.DataFrame(np.vstack((y1, X1.T)).T, columns=['Target', 'Feat1', 'Feat2'])\n",
    "data1.head()"
   ]
  },
  {
   "cell_type": "code",
   "execution_count": 4,
   "metadata": {
    "collapsed": false
   },
   "outputs": [
    {
     "data": {
      "image/png": "[encoded data removed]",
      "text/plain": [
       "<matplotlib.figure.Figure at 0x1117b9f10>"
      ]
     },
     "metadata": {},
     "output_type": "display_data"
    }
   ],
   "source": [
    "sns.lmplot(x=\"Feat1\", y=\"Feat2\", hue=\"Target\", data=data1, fit_reg= False, markers='o');"
   ]
  },
  {
   "cell_type": "code",
   "execution_count": 5,
   "metadata": {
    "collapsed": true
   },
   "outputs": [],
   "source": [
    "# Import home-made logistic regression function\n",
    "from logistic_regression_functions import *\n",
    "from gradient_ascent import GradientAscent"
   ]
  },
  {
   "cell_type": "code",
   "execution_count": 6,
   "metadata": {
    "collapsed": false
   },
   "outputs": [],
   "source": [
    "#save cost, gradient and prediction functions\n",
    "# cost = log_likelihood\n",
    "# gradient = log_likelihood_gradient\n",
    "cost = reg_log_likelihood\n",
    "gradient = reg_log_likelihood_gradient\n",
    "predict_func = predict"
   ]
  },
  {
   "cell_type": "code",
   "execution_count": 7,
   "metadata": {
    "collapsed": false,
    "scrolled": true
   },
   "outputs": [
    {
     "name": "stdout",
     "output_type": "stream",
     "text": [
      "Starting Gradient Ascent with theta = [ 0.  0.  0.] and cost = -0.69314718056\n",
      "Running...\n",
      "After 1000 iterations: theta = [ 0.48309172  3.86803895  0.7304488 ] and cost = -0.263447151134\n",
      "*******************************\n",
      "Accuracy:  0.93\n",
      "Precision:  0.957446808511\n",
      "Recall: 0.9\n"
     ]
    }
   ],
   "source": [
    "# Instantiate and run model on data\n",
    "model1 = GradientAscent(cost, gradient, predict_func, fit_intercept = True, scale = True)\n",
    "model1.run(X1, y1, alpha=0.1, num_iterations=1000, L2_reg = 0)\n",
    "\n",
    "# model predictions\n",
    "y1_pred = model1.predict(X1)\n",
    "\n",
    "print \"*******************************\"\n",
    "print \"Accuracy: \", accuracy(y1,y1_pred)\n",
    "print \"Precision: \", precision(y1,y1_pred)\n",
    "print \"Recall:\", recall(y1,y1_pred)"
   ]
  },
  {
   "cell_type": "code",
   "execution_count": 8,
   "metadata": {
    "collapsed": false
   },
   "outputs": [
    {
     "data": {
      "image/png": "[encoded data removed]",
      "text/plain": [
       "<matplotlib.figure.Figure at 0x11380e490>"
      ]
     },
     "metadata": {},
     "output_type": "display_data"
    }
   ],
   "source": [
    "# graph the decision boundary \n",
    "x = np.linspace(-0.5, 0.5, 10)\n",
    "theta1 = model1.coeffs\n",
    "\n",
    "sns.lmplot(x=\"Feat1\", y=\"Feat2\", hue=\"Target\", data=data1, fit_reg= False, markers='o')\n",
    "plt.plot(x,(theta1[1]*x + theta1[0])/(-theta1[2]), c = 'black');"
   ]
  },
  {
   "cell_type": "code",
   "execution_count": 9,
   "metadata": {
    "collapsed": false
   },
   "outputs": [
    {
     "data": {
      "image/png": "[encoded data removed]",
      "text/plain": [
       "<matplotlib.figure.Figure at 0x113a958d0>"
      ]
     },
     "metadata": {},
     "output_type": "display_data"
    }
   ],
   "source": [
    "# Check if your model reached convergence\n",
    "plt.plot(xrange(len(model1.costs_ascent)), model1.costs_ascent)\n",
    "plt.xlabel(\"Iteration\")\n",
    "plt.ylabel(\"Cost\")\n",
    "plt.show()"
   ]
  },
  {
   "cell_type": "markdown",
   "metadata": {},
   "source": [
    "# Dataset with Intercept"
   ]
  },
  {
   "cell_type": "code",
   "execution_count": 29,
   "metadata": {
    "collapsed": false
   },
   "outputs": [
    {
     "data": {
      "text/html": [
       "<div>\n",
       "<table border=\"1\" class=\"dataframe\">\n",
       "  <thead>\n",
       "    <tr style=\"text-align: right;\">\n",
       "      <th></th>\n",
       "      <th>X1</th>\n",
       "      <th>X2</th>\n",
       "      <th>y</th>\n",
       "    </tr>\n",
       "  </thead>\n",
       "  <tbody>\n",
       "    <tr>\n",
       "      <th>0</th>\n",
       "      <td>34.623660</td>\n",
       "      <td>78.024693</td>\n",
       "      <td>0</td>\n",
       "    </tr>\n",
       "    <tr>\n",
       "      <th>1</th>\n",
       "      <td>30.286711</td>\n",
       "      <td>43.894998</td>\n",
       "      <td>0</td>\n",
       "    </tr>\n",
       "    <tr>\n",
       "      <th>2</th>\n",
       "      <td>35.847409</td>\n",
       "      <td>72.902198</td>\n",
       "      <td>0</td>\n",
       "    </tr>\n",
       "    <tr>\n",
       "      <th>3</th>\n",
       "      <td>60.182599</td>\n",
       "      <td>86.308552</td>\n",
       "      <td>1</td>\n",
       "    </tr>\n",
       "    <tr>\n",
       "      <th>4</th>\n",
       "      <td>79.032736</td>\n",
       "      <td>75.344376</td>\n",
       "      <td>1</td>\n",
       "    </tr>\n",
       "  </tbody>\n",
       "</table>\n",
       "</div>"
      ],
      "text/plain": [
       "          X1         X2  y\n",
       "0  34.623660  78.024693  0\n",
       "1  30.286711  43.894998  0\n",
       "2  35.847409  72.902198  0\n",
       "3  60.182599  86.308552  1\n",
       "4  79.032736  75.344376  1"
      ]
     },
     "execution_count": 29,
     "metadata": {},
     "output_type": "execute_result"
    }
   ],
   "source": [
    "data2 = pd.read_csv(\"data/data1.txt\", header = None, names = [\"X1\", \"X2\", \"y\"] )\n",
    "data2.head()"
   ]
  },
  {
   "cell_type": "code",
   "execution_count": 30,
   "metadata": {
    "collapsed": false
   },
   "outputs": [
    {
     "data": {
      "image/png": "[encoded data removed]",
      "text/plain": [
       "<matplotlib.figure.Figure at 0x1148da650>"
      ]
     },
     "metadata": {},
     "output_type": "display_data"
    }
   ],
   "source": [
    "sns.lmplot(x=\"X1\", y=\"X2\", hue=\"y\", data=data2, fit_reg= False, markers='o');"
   ]
  },
  {
   "cell_type": "code",
   "execution_count": 31,
   "metadata": {
    "collapsed": false,
    "scrolled": false
   },
   "outputs": [
    {
     "name": "stdout",
     "output_type": "stream",
     "text": [
      "Starting Gradient Ascent with theta = [ 0.  0.  0.] and cost = -0.69314718056\n",
      "Running...\n",
      "After 100 iterations: theta = [ 1.27441976  3.06948797  2.83238804] and cost = -0.210423494834\n",
      "*******************************\n",
      "Accuracy:  0.89\n",
      "Precision:  0.901639344262\n",
      "Recall: 0.916666666667\n"
     ]
    }
   ],
   "source": [
    "# Instantiate and run model on data\n",
    "model2 = GradientAscent(cost, gradient, predict_func, fit_intercept = True, scale = True)\n",
    "X2 = data2.ix[:,:-1]\n",
    "y2 = data2.ix[:,-1]\n",
    "model2.run(X2, y2, alpha=1, num_iterations=100, L2_reg = 0)\n",
    "\n",
    "# model predictions\n",
    "y2_pred = model2.predict(X2)\n",
    "\n",
    "print \"*******************************\"\n",
    "print \"Accuracy: \", accuracy(y2,y2_pred)\n",
    "print \"Precision: \", precision(y2,y2_pred)\n",
    "print \"Recall:\", recall(y2,y2_pred)"
   ]
  },
  {
   "cell_type": "code",
   "execution_count": 32,
   "metadata": {
    "collapsed": false,
    "scrolled": true
   },
   "outputs": [
    {
     "data": {
      "image/png": "[encoded data removed]",
      "text/plain": [
       "<matplotlib.figure.Figure at 0x114adbdd0>"
      ]
     },
     "metadata": {},
     "output_type": "display_data"
    }
   ],
   "source": [
    "# Check if your model reached convergence\n",
    "plt.plot(xrange(len(model2.costs_ascent)), model2.costs_ascent)\n",
    "plt.xlabel(\"Iteration\")\n",
    "plt.ylabel(\"Cost\")\n",
    "plt.show()"
   ]
  },
  {
   "cell_type": "markdown",
   "metadata": {},
   "source": [
    "## Non-linear Decision Boundary"
   ]
  },
  {
   "cell_type": "code",
   "execution_count": 33,
   "metadata": {
    "collapsed": false
   },
   "outputs": [
    {
     "data": {
      "text/html": [
       "<div>\n",
       "<table border=\"1\" class=\"dataframe\">\n",
       "  <thead>\n",
       "    <tr style=\"text-align: right;\">\n",
       "      <th></th>\n",
       "      <th>X1</th>\n",
       "      <th>X2</th>\n",
       "      <th>y</th>\n",
       "    </tr>\n",
       "  </thead>\n",
       "  <tbody>\n",
       "    <tr>\n",
       "      <th>0</th>\n",
       "      <td>0.051267</td>\n",
       "      <td>0.69956</td>\n",
       "      <td>1</td>\n",
       "    </tr>\n",
       "    <tr>\n",
       "      <th>1</th>\n",
       "      <td>-0.092742</td>\n",
       "      <td>0.68494</td>\n",
       "      <td>1</td>\n",
       "    </tr>\n",
       "    <tr>\n",
       "      <th>2</th>\n",
       "      <td>-0.213710</td>\n",
       "      <td>0.69225</td>\n",
       "      <td>1</td>\n",
       "    </tr>\n",
       "    <tr>\n",
       "      <th>3</th>\n",
       "      <td>-0.375000</td>\n",
       "      <td>0.50219</td>\n",
       "      <td>1</td>\n",
       "    </tr>\n",
       "    <tr>\n",
       "      <th>4</th>\n",
       "      <td>-0.513250</td>\n",
       "      <td>0.46564</td>\n",
       "      <td>1</td>\n",
       "    </tr>\n",
       "  </tbody>\n",
       "</table>\n",
       "</div>"
      ],
      "text/plain": [
       "         X1       X2  y\n",
       "0  0.051267  0.69956  1\n",
       "1 -0.092742  0.68494  1\n",
       "2 -0.213710  0.69225  1\n",
       "3 -0.375000  0.50219  1\n",
       "4 -0.513250  0.46564  1"
      ]
     },
     "execution_count": 33,
     "metadata": {},
     "output_type": "execute_result"
    }
   ],
   "source": [
    "data3 = pd.read_csv(\"data/data2.txt\", header = None, names = [\"X1\", \"X2\", \"y\"] )\n",
    "data3.head()"
   ]
  },
  {
   "cell_type": "code",
   "execution_count": 40,
   "metadata": {
    "collapsed": false
   },
   "outputs": [
    {
     "data": {
      "image/png": "[encoded data removed]",
      "text/plain": [
       "<matplotlib.figure.Figure at 0x11406e490>"
      ]
     },
     "metadata": {},
     "output_type": "display_data"
    }
   ],
   "source": [
    "sns.lmplot(x=\"X1\", y=\"X2\", hue=\"y\", data=data3, fit_reg= False, markers='o');"
   ]
  },
  {
   "cell_type": "code",
   "execution_count": 41,
   "metadata": {
    "collapsed": true
   },
   "outputs": [],
   "source": [
    "cost = reg_log_likelihood\n",
    "gradient = reg_log_likelihood_gradient\n",
    "predict_func = predict"
   ]
  },
  {
   "cell_type": "code",
   "execution_count": 42,
   "metadata": {
    "collapsed": false
   },
   "outputs": [],
   "source": [
    "# feature engineer non-linear features\n",
    "def mapFeatures(X):\n",
    "    degree = 6\n",
    "    Xpol = np.ones((X.shape[0], degree))\n",
    "    for i in range(degree):\n",
    "        for j in range(0, i+1):\n",
    "            Xpol[:,i] = X[:,0]**(i-j) * X[:,1]**(j)\n",
    "    return Xpol"
   ]
  },
  {
   "cell_type": "code",
   "execution_count": 43,
   "metadata": {
    "collapsed": false
   },
   "outputs": [],
   "source": [
    "X3 = data3.ix[:,:-1].values\n",
    "y3 = data3.ix[:,-1].values\n",
    "Xpol = mapFeatures(X3)"
   ]
  },
  {
   "cell_type": "code",
   "execution_count": 78,
   "metadata": {
    "collapsed": false
   },
   "outputs": [
    {
     "name": "stdout",
     "output_type": "stream",
     "text": [
      "Starting Gradient Ascent with theta = [ 0.  0.  0.  0.  0.  0.] and cost = -0.69314718056\n",
      "Running...\n",
      "After 6000 iterations: theta = [ 0.45901692  1.30463504 -1.11421144 -0.2942725  -1.83081566 -0.92482525] and cost = -0.629243796524\n",
      "*******************************\n",
      "Accuracy:  0.652542372881\n",
      "Precision:  0.616438356164\n",
      "Recall: 0.775862068966\n"
     ]
    }
   ],
   "source": [
    "# Instantiate and run model on data\n",
    "model3 = GradientAscent(cost, gradient, predict_func, fit_intercept = False, scale = False)\n",
    "model3.run(Xpol, y3, alpha=0.05, num_iterations=6000, L2_reg = 0)\n",
    "\n",
    "# model predictions\n",
    "y3_pred = model3.predict(Xpol)\n",
    "\n",
    "print \"*******************************\"\n",
    "print \"Accuracy: \", accuracy(y3,y3_pred)\n",
    "print \"Precision: \", precision(y3,y3_pred)\n",
    "print \"Recall:\", recall(y3,y3_pred)"
   ]
  },
  {
   "cell_type": "code",
   "execution_count": 79,
   "metadata": {
    "collapsed": false
   },
   "outputs": [
    {
     "data": {
      "image/png": "[encoded data removed]",
      "text/plain": [
       "<matplotlib.figure.Figure at 0x1148daad0>"
      ]
     },
     "metadata": {},
     "output_type": "display_data"
    }
   ],
   "source": [
    "\n",
    "plt.plot(xrange(len(model3.costs_ascent)), model3.costs_ascent)\n",
    "plt.xlabel(\"Iteration\")\n",
    "plt.ylabel(\"Cost\")\n",
    "plt.show()\n"
   ]
  },
  {
   "cell_type": "code",
   "execution_count": null,
   "metadata": {
    "collapsed": true
   },
   "outputs": [],
   "source": []
  }
 ],
 "metadata": {
  "kernelspec": {
   "display_name": "Python 2",
   "language": "python",
   "name": "python2"
  },
  "language_info": {
   "codemirror_mode": {
    "name": "ipython",
    "version": 2
   },
   "file_extension": ".py",
   "mimetype": "text/x-python",
   "name": "python",
   "nbconvert_exporter": "python",
   "pygments_lexer": "ipython2",
   "version": "2.7.10"
  }
 },
 "nbformat": 4,
 "nbformat_minor": 0
}
