{
 "cells": [
  {
   "cell_type": "code",
   "execution_count": 27,
   "metadata": {
    "collapsed": false
   },
   "outputs": [],
   "source": [
    "from sklearn.tree import DecisionTreeRegressor\n",
    "from sklearn.ensemble import RandomForestRegressor\n",
    "from sklearn.ensemble import GradientBoostingRegressor\n",
    "from sklearn.ensemble import AdaBoostRegressor\n",
    "from sklearn.datasets import load_boston\n",
    "from sklearn.cross_validation import train_test_split, cross_val_score\n",
    "from sklearn.grid_search import GridSearchCV, RandomizedSearchCV\n",
    "from sklearn.metrics import mean_squared_error, r2_score\n",
    "from sklearn.ensemble.partial_dependence import plot_partial_dependence\n",
    "import matplotlib.pyplot as plt\n",
    "from scipy.stats import randint as sp_randint\n",
    "import numpy as np\n",
    "%matplotlib inline"
   ]
  },
  {
   "cell_type": "markdown",
   "metadata": {},
   "source": [
    "## Import Boston Dataset"
   ]
  },
  {
   "cell_type": "code",
   "execution_count": 2,
   "metadata": {
    "collapsed": true
   },
   "outputs": [],
   "source": [
    "boston = load_boston()\n",
    "# House Prices\n",
    "y = boston.target\n",
    "# The other 13 features\n",
    "x = boston.data"
   ]
  },
  {
   "cell_type": "code",
   "execution_count": 3,
   "metadata": {
    "collapsed": false
   },
   "outputs": [
    {
     "data": {
      "text/plain": [
       "(506, 13)"
      ]
     },
     "execution_count": 3,
     "metadata": {},
     "output_type": "execute_result"
    }
   ],
   "source": [
    "x.shape"
   ]
  },
  {
   "cell_type": "code",
   "execution_count": 4,
   "metadata": {
    "collapsed": true
   },
   "outputs": [],
   "source": [
    "X_train, X_test, y_train, y_test = train_test_split(x, y, test_size=0.2, random_state=1)"
   ]
  },
  {
   "cell_type": "markdown",
   "metadata": {},
   "source": [
    "## Instansiate Models"
   ]
  },
  {
   "cell_type": "code",
   "execution_count": 5,
   "metadata": {
    "collapsed": true
   },
   "outputs": [],
   "source": [
    "rf = RandomForestRegressor(n_estimators=100,\n",
    "                          n_jobs=-1,\n",
    "                          random_state=1)\n",
    "\n",
    "gdbr = GradientBoostingRegressor(learning_rate=0.1,\n",
    "                                loss='ls',\n",
    "                                n_estimators=100,\n",
    "                                random_state=1)\n",
    "\n",
    "abr = AdaBoostRegressor(DecisionTreeRegressor(),\n",
    "                       learning_rate=0.1,\n",
    "                       loss='linear',\n",
    "                       n_estimators=100,\n",
    "                       random_state=1)"
   ]
  },
  {
   "cell_type": "markdown",
   "metadata": {},
   "source": [
    "## Cross Validation Helper Function"
   ]
  },
  {
   "cell_type": "code",
   "execution_count": 6,
   "metadata": {
    "collapsed": false
   },
   "outputs": [],
   "source": [
    "def cross_val_MSE_R2(estimator_list):\n",
    "    MSE_list = []\n",
    "    R2_list = []\n",
    "\n",
    "    for estimator in estimator_list: \n",
    "        MSE = - np.mean(cross_val_score(estimator,\n",
    "                                        X_train, y_train,\n",
    "                                        scoring=\"mean_squared_error\",\n",
    "                                        cv= 10,\n",
    "                                        n_jobs=-1))\n",
    "        R2 = np.mean(cross_val_score(estimator,\n",
    "                              X_train, y_train,\n",
    "                              scoring=\"r2\",\n",
    "                              cv= 10,\n",
    "                              n_jobs=-1))\n",
    "\n",
    "        MSE_list.append(MSE)\n",
    "        R2_list.append(R2)\n",
    "    \n",
    "    return MSE_list, R2_list"
   ]
  },
  {
   "cell_type": "markdown",
   "metadata": {},
   "source": [
    "## Model Comparison"
   ]
  },
  {
   "cell_type": "code",
   "execution_count": 7,
   "metadata": {
    "collapsed": false,
    "scrolled": true
   },
   "outputs": [
    {
     "name": "stdout",
     "output_type": "stream",
     "text": [
      "Random Forest => MSE: 9.88, R2: 0.87\n",
      "Gradient Boosting => MSE: 8.45, R2: 0.89\n",
      "AdaBoost => MSE: 10.33, R2: 0.86\n"
     ]
    }
   ],
   "source": [
    "estimator_list = [rf, gdbr, abr]\n",
    "\n",
    "MSE_list, R2_list = cross_val_MSE_R2(estimator_list)\n",
    "\n",
    "for i, est in enumerate([\"Random Forest\", \"Gradient Boosting\", \"AdaBoost\"]):\n",
    "    print \"{} => MSE: {:0.2f}, R2: {:0.2f}\".format(str(est), MSE_list[i], R2_list[i])"
   ]
  },
  {
   "cell_type": "markdown",
   "metadata": {},
   "source": [
    "Gradient Boosting has the best cross validation score. However, to make a better judgement  of the performance we need to test these models on the hold-out dataset, because these data has never been seen by the model and therefore is unbaised."
   ]
  },
  {
   "cell_type": "markdown",
   "metadata": {},
   "source": [
    "## Gradient Boosting Regressor with Learning Rate Increased to 1"
   ]
  },
  {
   "cell_type": "code",
   "execution_count": 8,
   "metadata": {
    "collapsed": true
   },
   "outputs": [],
   "source": [
    "gdbr1 = GradientBoostingRegressor(learning_rate=1,\n",
    "                                loss='ls',\n",
    "                                n_estimators=100,\n",
    "                                random_state=1)"
   ]
  },
  {
   "cell_type": "code",
   "execution_count": 9,
   "metadata": {
    "collapsed": false,
    "scrolled": true
   },
   "outputs": [
    {
     "name": "stdout",
     "output_type": "stream",
     "text": [
      "Gradient Boosting (learning rate = 1) => MSE: 21.01, R2: 0.73\n"
     ]
    }
   ],
   "source": [
    "MSE, R2 = cross_val_MSE_R2([gdbr1])\n",
    "\n",
    "print \"Gradient Boosting (learning rate = 1) => MSE: {:0.2f}, R2: {:0.2f}\".format(MSE[0], R2[0])"
   ]
  },
  {
   "cell_type": "markdown",
   "metadata": {},
   "source": [
    "With this higher learning rate the model performance decreases. Let's investiagte that further."
   ]
  },
  {
   "cell_type": "markdown",
   "metadata": {},
   "source": [
    "## Graph Boosting Iteration"
   ]
  },
  {
   "cell_type": "code",
   "execution_count": 10,
   "metadata": {
    "collapsed": false
   },
   "outputs": [],
   "source": [
    "def stage_score_plot(model, X_train, X_test, y_train, y_test):\n",
    "    '''\n",
    "    INPUT:\n",
    "      model: GradientBoostingRegressor or AdaBoostRegressor\n",
    "      train_x: 2d numpy array\n",
    "      train_y: 1d numpy array\n",
    "      test_x: 2d numpy array\n",
    "      test_y: 1d numpy array\n",
    "\n",
    "    Create a plot of the number of iterations vs the MSE for the model for\n",
    "    both the training set and test set.\n",
    "    '''\n",
    "    model.fit(X_train, y_train)\n",
    "\n",
    "    lr = model.learning_rate\n",
    "\n",
    "    train_score = []\n",
    "    for i, train_pred_y in enumerate(model.staged_predict(X_train)):\n",
    "        train_score.append(mean_squared_error(y_train, train_pred_y))\n",
    "\n",
    "    test_score = []\n",
    "    for i, test_pred_y in enumerate(model.staged_predict(X_test)):\n",
    "        test_score.append(mean_squared_error(y_test, test_pred_y))\n",
    "\n",
    "    #plt.figure(figsize=(8, 8))\n",
    "    plt.title(model.__class__.__name__)\n",
    "    plt.plot(range(len(train_score)), train_score, '--',\n",
    "             label= model.__class__.__name__ + ' Train: learning rate = ' + str(lr))\n",
    "    plt.plot(range(len(test_score)), test_score, \n",
    "             label= model.__class__.__name__ + ' Test: learning rate = ' + str(lr))\n",
    "    plt.legend(loc='upper right')\n",
    "    plt.xlabel('Boosting Iterations')\n",
    "    plt.ylabel('MSE')"
   ]
  },
  {
   "cell_type": "markdown",
   "metadata": {},
   "source": [
    "## Train and Test Error for LEarning Rate of 0.1 and 1"
   ]
  },
  {
   "cell_type": "code",
   "execution_count": 17,
   "metadata": {
    "collapsed": false,
    "scrolled": true
   },
   "outputs": [
    {
     "data": {
      "image/png": "[encoded data removed]",
      "text/plain": [
       "<matplotlib.figure.Figure at 0x110553a90>"
      ]
     },
     "metadata": {},
     "output_type": "display_data"
    }
   ],
   "source": [
    "plt.figure(figsize=(8, 6))\n",
    "stage_score_plot(gdbr, X_train, X_test, y_train, y_test)\n",
    "stage_score_plot(gdbr1, X_train, X_test, y_train, y_test)\n",
    "plt.show()"
   ]
  },
  {
   "cell_type": "markdown",
   "metadata": {},
   "source": [
    "As expected the train error is always smaller than the test error for both learning rates. This is because the train error is an \"optimistic\" measure of model performance, but in fact it is overfitting. The higher learning rate allows the train error to converge faster. However a too high learning rate makes the test error diverge. The large steps overshot the minima. A lower learning rate allows to get a lower test error after about 25 boosting iterations"
   ]
  },
  {
   "cell_type": "markdown",
   "metadata": {},
   "source": [
    "## Add Random Forest MSE to Gradient Boosting Graph"
   ]
  },
  {
   "cell_type": "code",
   "execution_count": 13,
   "metadata": {
    "collapsed": false
   },
   "outputs": [],
   "source": [
    "rfMSE, _ = cross_val_MSE_R2([rf])"
   ]
  },
  {
   "cell_type": "code",
   "execution_count": 14,
   "metadata": {
    "collapsed": false
   },
   "outputs": [
    {
     "data": {
      "image/png": "[encoded data removed]",
      "text/plain": [
       "<matplotlib.figure.Figure at 0x1105dac10>"
      ]
     },
     "metadata": {},
     "output_type": "display_data"
    }
   ],
   "source": [
    "plt.figure(figsize=(8, 6))\n",
    "plt.axhline(y=rfMSE, color='r',label = 'Random Forest Test')\n",
    "\n",
    "stage_score_plot(gdbr, X_train, X_test, y_train, y_test)\n",
    "plt.title(\"Gradient Boosting & Random Forest\")\n",
    "plt.show()"
   ]
  },
  {
   "cell_type": "markdown",
   "metadata": {},
   "source": [
    "Gradient Boosting beats Random Forest at about 40 boosting iterations"
   ]
  },
  {
   "cell_type": "markdown",
   "metadata": {},
   "source": [
    "## Add Random Forest MSE to AdaBoosting Graph"
   ]
  },
  {
   "cell_type": "code",
   "execution_count": 16,
   "metadata": {
    "collapsed": false,
    "scrolled": true
   },
   "outputs": [
    {
     "data": {
      "image/png": "[encoded data removed]",
      "text/plain": [
       "<matplotlib.figure.Figure at 0x10ff9e710>"
      ]
     },
     "metadata": {},
     "output_type": "display_data"
    }
   ],
   "source": [
    "plt.figure(figsize=(8, 6))\n",
    "plt.axhline(y=rfMSE, color='r', label = 'Random Forest Test')\n",
    "stage_score_plot(abr, X_train, X_test, y_train, y_test)\n",
    "plt.title(\"AdaBoosting & Random Forest\")\n",
    "plt.show()"
   ]
  },
  {
   "cell_type": "markdown",
   "metadata": {},
   "source": [
    "AdaBoosting and Random Forest seem to converge to a very similar value at around 40 boosting iterations."
   ]
  },
  {
   "cell_type": "markdown",
   "metadata": {},
   "source": [
    "## Grid Search"
   ]
  },
  {
   "cell_type": "code",
   "execution_count": 34,
   "metadata": {
    "collapsed": false,
    "scrolled": true
   },
   "outputs": [
    {
     "name": "stdout",
     "output_type": "stream",
     "text": [
      "Fitting 3 folds for each of 324 candidates, totalling 972 fits\n"
     ]
    },
    {
     "name": "stderr",
     "output_type": "stream",
     "text": [
      "[Parallel(n_jobs=-1)]: Done   1 jobs       | elapsed:    0.1s\n",
      "[Parallel(n_jobs=-1)]: Done  50 jobs       | elapsed:    0.7s\n",
      "[Parallel(n_jobs=-1)]: Done 200 jobs       | elapsed:    2.5s\n",
      "[Parallel(n_jobs=-1)]: Done 450 jobs       | elapsed:    6.2s\n",
      "[Parallel(n_jobs=-1)]: Done 800 jobs       | elapsed:   11.3s\n",
      "[Parallel(n_jobs=-1)]: Done 966 out of 972 | elapsed:   15.0s remaining:    0.1s\n",
      "[Parallel(n_jobs=-1)]: Done 972 out of 972 | elapsed:   15.1s finished\n"
     ]
    },
    {
     "name": "stdout",
     "output_type": "stream",
     "text": [
      "best parameters: {'bootstrap': False, 'min_samples_leaf': 1, 'n_estimators': 30, 'min_samples_split': 3, 'random_state': 1, 'max_features': 'sqrt', 'max_depth': None}\n",
      "Best score:  0.838345473025\n"
     ]
    }
   ],
   "source": [
    "random_forest_grid = {'max_depth': [5, None],\n",
    "                      'max_features': ['sqrt', 'log2', None],\n",
    "                      'min_samples_split': [3, 4, 5],\n",
    "                      'min_samples_leaf': [1, 2, 4],\n",
    "                      'bootstrap': [True, False],\n",
    "                      'n_estimators': [30, 40, 50],\n",
    "                      'random_state': [1]}\n",
    "\n",
    "rf_gridsearch = GridSearchCV(RandomForestRegressor(),\n",
    "                             random_forest_grid,\n",
    "                             n_jobs=-1,\n",
    "                             verbose=True,\n",
    "                             scoring='mean_squared_error')\n",
    "rf_gridsearch.fit(X_train, y_train)\n",
    "\n",
    "print \"best parameters:\", rf_gridsearch.best_params_\n",
    "print \"Best score: \", rf_random_search.best_score_\n",
    "\n",
    "best_rf_model = rf_gridsearch.best_estimator_"
   ]
  },
  {
   "cell_type": "markdown",
   "metadata": {},
   "source": [
    "## Grid Search Random Forest Performance"
   ]
  },
  {
   "cell_type": "code",
   "execution_count": 21,
   "metadata": {
    "collapsed": true
   },
   "outputs": [],
   "source": [
    "# Best parameters\n",
    "rf_best = RandomForestRegressor(bootstrap = False, \n",
    "                               min_samples_leaf = 1,\n",
    "                               n_estimators = 30,\n",
    "                               min_samples_split = 3,\n",
    "                               random_state = 1,\n",
    "                               max_features = 'sqrt',\n",
    "                               max_depth = None)"
   ]
  },
  {
   "cell_type": "code",
   "execution_count": 22,
   "metadata": {
    "collapsed": false
   },
   "outputs": [
    {
     "name": "stdout",
     "output_type": "stream",
     "text": [
      "Random Forest => MSE: 9.19, R2: 0.88\n"
     ]
    }
   ],
   "source": [
    "MSE, R2 = cross_val_MSE_R2([rf_best])\n",
    "\n",
    "print \"Random Forest => MSE: {:0.2f}, R2: {:0.2f}\".format(MSE[0], R2[0])"
   ]
  },
  {
   "cell_type": "markdown",
   "metadata": {},
   "source": [
    "The tuned Random Forest was able to achieve a slightly better to the default parameters that got a MSE 9.88."
   ]
  },
  {
   "cell_type": "markdown",
   "metadata": {},
   "source": [
    "## Random Search"
   ]
  },
  {
   "cell_type": "code",
   "execution_count": 70,
   "metadata": {
    "collapsed": false
   },
   "outputs": [
    {
     "name": "stdout",
     "output_type": "stream",
     "text": [
      "Fitting 3 folds for each of 200 candidates, totalling 600 fits\n"
     ]
    },
    {
     "name": "stderr",
     "output_type": "stream",
     "text": [
      "[Parallel(n_jobs=-1)]: Done   1 jobs       | elapsed:    0.1s\n",
      "[Parallel(n_jobs=-1)]: Done  50 jobs       | elapsed:    0.7s\n",
      "[Parallel(n_jobs=-1)]: Done 200 jobs       | elapsed:    2.5s\n",
      "[Parallel(n_jobs=-1)]: Done 450 jobs       | elapsed:    5.6s\n",
      "[Parallel(n_jobs=-1)]: Done 594 out of 600 | elapsed:    7.9s remaining:    0.1s\n",
      "[Parallel(n_jobs=-1)]: Done 600 out of 600 | elapsed:    8.0s finished\n"
     ]
    },
    {
     "name": "stdout",
     "output_type": "stream",
     "text": [
      "best parameters: {'bootstrap': False, 'min_samples_leaf': 1, 'n_estimators': 36, 'min_samples_split': 4, 'random_state': 1, 'max_features': 4, 'max_depth': None}\n",
      "Best score:  0.883605620995\n"
     ]
    }
   ],
   "source": [
    "param_dist = {\"max_depth\": [3, None],\n",
    "              \"max_features\": sp_randint(1, 14),\n",
    "              \"min_samples_split\": sp_randint(1, 11),\n",
    "              \"min_samples_leaf\": sp_randint(1, 11),\n",
    "              \"bootstrap\": [True, False],\n",
    "              \"n_estimators\": sp_randint(10, 60),\n",
    "              \"random_state\": [1]}\n",
    "\n",
    "# run randomized search\n",
    "n_iter_search = 200\n",
    "rf_random_search = RandomizedSearchCV(RandomForestRegressor(),\n",
    "                                       param_distributions=param_dist,\n",
    "                                       n_iter=n_iter_search,\n",
    "                                       n_jobs=-1,\n",
    "                                       verbose=True)\n",
    "\n",
    "rf_random_search.fit(X_train, y_train)\n",
    "\n",
    "print \"best parameters:\", rf_random_search.best_params_\n",
    "print \"Best score: \", rf_random_search.best_score_\n",
    "\n",
    "best_rf_model = rf_random_search.best_estimator_"
   ]
  },
  {
   "cell_type": "markdown",
   "metadata": {},
   "source": [
    "## Random Search Random Forest Performance"
   ]
  },
  {
   "cell_type": "code",
   "execution_count": 72,
   "metadata": {
    "collapsed": false,
    "scrolled": true
   },
   "outputs": [
    {
     "name": "stdout",
     "output_type": "stream",
     "text": [
      "Random Forest => MSE: 8.43, R2: 0.89\n"
     ]
    }
   ],
   "source": [
    "rf_best = RandomForestRegressor(bootstrap = False, \n",
    "                               min_samples_leaf = 1,\n",
    "                               n_estimators = 53,\n",
    "                               min_samples_split = 3,\n",
    "                               random_state = 1,\n",
    "                               max_features = 5,\n",
    "                               max_depth = None)\n",
    "\n",
    "MSE, R2 = cross_val_MSE_R2([rf_best])\n",
    "\n",
    "print \"Random Forest => MSE: {:0.2f}, R2: {:0.2f}\".format(MSE[0], R2[0])"
   ]
  },
  {
   "cell_type": "markdown",
   "metadata": {},
   "source": [
    "With a random search we get an improved MSE and R2."
   ]
  },
  {
   "cell_type": "markdown",
   "metadata": {},
   "source": [
    "## Gradient Boosting Grid Search"
   ]
  },
  {
   "cell_type": "code",
   "execution_count": 95,
   "metadata": {
    "collapsed": false
   },
   "outputs": [
    {
     "name": "stdout",
     "output_type": "stream",
     "text": [
      "Fitting 3 folds for each of 144 candidates, totalling 432 fits\n"
     ]
    },
    {
     "name": "stderr",
     "output_type": "stream",
     "text": [
      "[Parallel(n_jobs=-1)]: Done   1 jobs       | elapsed:    0.1s\n",
      "[Parallel(n_jobs=-1)]: Done  50 jobs       | elapsed:    1.2s\n",
      "[Parallel(n_jobs=-1)]: Done 200 jobs       | elapsed:    6.1s\n",
      "[Parallel(n_jobs=-1)]: Done 432 out of 432 | elapsed:   16.3s finished\n"
     ]
    },
    {
     "name": "stdout",
     "output_type": "stream",
     "text": [
      "best parameters: {'max_features': 'log2', 'n_estimators': 200, 'learning_rate': 0.05, 'max_depth': 5, 'min_samples_leaf': 4}\n",
      "Best score:  0.889242422317\n"
     ]
    }
   ],
   "source": [
    "param_grid = {'n_estimators': [200],\n",
    "              'min_samples_leaf': [2, 3, 4, 5],\n",
    "              'max_depth': [3, 5, 7, 8],\n",
    "              'max_features': ['sqrt', 'log2', None],\n",
    "              'learning_rate': [0.05, 0.02, 0.01]}\n",
    "\n",
    "gd_gridsearch = GridSearchCV(GradientBoostingRegressor(),\n",
    "                             param_grid = param_grid,\n",
    "                             n_jobs=-1,\n",
    "                             verbose=True)\n",
    "\n",
    "gd_gridsearch.fit(X_train, y_train)\n",
    "\n",
    "print \"best parameters:\", gd_gridsearch.best_params_\n",
    "print \"Best score: \", gd_gridsearch.best_score_\n",
    "\n",
    "best_rf_model = gd_gridsearch.best_estimator_"
   ]
  },
  {
   "cell_type": "code",
   "execution_count": 97,
   "metadata": {
    "collapsed": false,
    "scrolled": true
   },
   "outputs": [
    {
     "name": "stdout",
     "output_type": "stream",
     "text": [
      "Gradient Boosting => MSE: 8.84, R2: 0.884\n"
     ]
    }
   ],
   "source": [
    "gdbr_best = GradientBoostingRegressor(learning_rate=0.05,\n",
    "                                      max_features = 'log2',\n",
    "                                      n_estimators = 200,\n",
    "                                      max_depth = 5,\n",
    "                                      min_samples_leaf = 2,\n",
    "                                      random_state=1)\n",
    "\n",
    "MSE, R2 = cross_val_MSE_R2([gdbr_best])\n",
    "\n",
    "print \"Gradient Boosting => MSE: {:0.2f}, R2: {:0.3f}\".format(MSE[0], R2[0])"
   ]
  },
  {
   "cell_type": "markdown",
   "metadata": {},
   "source": [
    "The tuned GradientBoosting got a slightly worse result than the default parameters that got a MSE 8.45."
   ]
  },
  {
   "cell_type": "markdown",
   "metadata": {},
   "source": [
    "## Gradient Boosting Random Search"
   ]
  },
  {
   "cell_type": "code",
   "execution_count": 138,
   "metadata": {
    "collapsed": false,
    "scrolled": true
   },
   "outputs": [
    {
     "name": "stdout",
     "output_type": "stream",
     "text": [
      "Fitting 3 folds for each of 200 candidates, totalling 600 fits\n"
     ]
    },
    {
     "name": "stderr",
     "output_type": "stream",
     "text": [
      "[Parallel(n_jobs=-1)]: Done   1 jobs       | elapsed:    0.1s\n",
      "[Parallel(n_jobs=-1)]: Done  50 jobs       | elapsed:    2.6s\n",
      "[Parallel(n_jobs=-1)]: Done 200 jobs       | elapsed:    8.1s\n",
      "[Parallel(n_jobs=-1)]: Done 450 jobs       | elapsed:   15.1s\n",
      "[Parallel(n_jobs=-1)]: Done 594 out of 600 | elapsed:   20.5s remaining:    0.2s\n",
      "[Parallel(n_jobs=-1)]: Done 600 out of 600 | elapsed:   20.5s finished\n"
     ]
    },
    {
     "name": "stdout",
     "output_type": "stream",
     "text": [
      "best parameters: {'max_features': 4, 'n_estimators': 200, 'learning_rate': 0.05, 'max_depth': 6, 'min_samples_leaf': 4}\n",
      "Best score:  0.893411778663\n"
     ]
    }
   ],
   "source": [
    "param_dist = {'n_estimators': [200],\n",
    "              'min_samples_leaf': sp_randint(1, 11),\n",
    "              'max_depth': sp_randint(1, 11),\n",
    "              'max_features': sp_randint(1, 14),\n",
    "              'learning_rate': [0.05, 0.03, 0.01]}\n",
    "\n",
    "\n",
    "# run randomized search\n",
    "n_iter_search = 200\n",
    "gb_random_search = RandomizedSearchCV(GradientBoostingRegressor(),\n",
    "                                       param_distributions=param_dist,\n",
    "                                       n_iter=n_iter_search,\n",
    "                                       n_jobs=-1,\n",
    "                                       verbose=True)\n",
    "\n",
    "gb_random_search.fit(X_train, y_train)\n",
    "\n",
    "print \"best parameters:\", gb_random_search.best_params_\n",
    "print \"Best score: \", gb_random_search.best_score_"
   ]
  },
  {
   "cell_type": "code",
   "execution_count": 134,
   "metadata": {
    "collapsed": false,
    "scrolled": true
   },
   "outputs": [
    {
     "name": "stdout",
     "output_type": "stream",
     "text": [
      "Gradient Boosting => MSE: 8.10, R2: 0.890\n"
     ]
    }
   ],
   "source": [
    "gdbr_best = GradientBoostingRegressor(learning_rate=0.05,\n",
    "                                      max_features = 5,\n",
    "                                      n_estimators = 200,\n",
    "                                      max_depth = 5,\n",
    "                                      min_samples_leaf = 4,\n",
    "                                      random_state=1)\n",
    "\n",
    "MSE, R2 = cross_val_MSE_R2([gdbr_best])\n",
    "\n",
    "print \"Gradient Boosting => MSE: {:0.2f}, R2: {:0.3f}\".format(MSE[0], R2[0])"
   ]
  },
  {
   "cell_type": "markdown",
   "metadata": {},
   "source": [
    "With a Random Search we were able to tune the Gradient Boosting to perform better than the default model."
   ]
  },
  {
   "cell_type": "markdown",
   "metadata": {},
   "source": [
    "## Ada Boosting Grid Search"
   ]
  },
  {
   "cell_type": "code",
   "execution_count": 150,
   "metadata": {
    "collapsed": false
   },
   "outputs": [
    {
     "name": "stdout",
     "output_type": "stream",
     "text": [
      "Fitting 3 folds for each of 162 candidates, totalling 486 fits\n"
     ]
    },
    {
     "name": "stderr",
     "output_type": "stream",
     "text": [
      "[Parallel(n_jobs=-1)]: Done   1 jobs       | elapsed:    0.3s\n",
      "[Parallel(n_jobs=-1)]: Done  50 jobs       | elapsed:    3.8s\n",
      "[Parallel(n_jobs=-1)]: Done 200 jobs       | elapsed:   15.3s\n",
      "[Parallel(n_jobs=-1)]: Done 450 jobs       | elapsed:   38.3s\n",
      "[Parallel(n_jobs=-1)]: Done 480 out of 486 | elapsed:   41.8s remaining:    0.5s\n",
      "[Parallel(n_jobs=-1)]: Done 486 out of 486 | elapsed:   42.5s finished\n"
     ]
    },
    {
     "name": "stdout",
     "output_type": "stream",
     "text": [
      "best parameters: {'base_estimator__min_samples_split': 3, 'base_estimator__max_depth': None, 'learning_rate': 0.05, 'base_estimator__max_features': None, 'n_estimators': 200, 'base_estimator__min_samples_leaf': 2}\n",
      "Best score:  0.883466098923\n"
     ]
    }
   ],
   "source": [
    "param_grid = {'n_estimators': [200],\n",
    "              'learning_rate': [0.06, 0.05, 0.03],\n",
    "              'base_estimator__max_depth': [5, None],\n",
    "              'base_estimator__max_features': ['sqrt', 'log2', None],\n",
    "              'base_estimator__min_samples_split': [3, 4, 5],\n",
    "              'base_estimator__min_samples_leaf': [1, 2, 4]}\n",
    "\n",
    "DTC = DecisionTreeRegressor(random_state = 1)\n",
    "\n",
    "gd_gridsearch = GridSearchCV(AdaBoostRegressor(base_estimator = DTC),\n",
    "                             param_grid = param_grid,\n",
    "                             n_jobs=-1,\n",
    "                             verbose=True)\n",
    "\n",
    "gd_gridsearch.fit(X_train, y_train)\n",
    "\n",
    "print \"best parameters:\", gd_gridsearch.best_params_\n",
    "print \"Best score: \", gd_gridsearch.best_score_\n",
    "\n",
    "best_rf_model = gd_gridsearch.best_estimator_"
   ]
  },
  {
   "cell_type": "code",
   "execution_count": 151,
   "metadata": {
    "collapsed": false
   },
   "outputs": [
    {
     "name": "stdout",
     "output_type": "stream",
     "text": [
      "Gradient Boosting => MSE: 9.83, R2: 0.866\n"
     ]
    }
   ],
   "source": [
    "\n",
    "\n",
    "adb_best = AdaBoostRegressor(DecisionTreeRegressor(min_samples_split = 3,\n",
    "                                                   max_depth = None,\n",
    "                                                   max_features = None,\n",
    "                                                   min_samples_leaf = 2,),                                                  \n",
    "                            learning_rate=0.05,\n",
    "                            n_estimators=200,\n",
    "                            random_state=1)\n",
    "\n",
    "MSE, R2 = cross_val_MSE_R2([adb_best])\n",
    "\n",
    "print \"Gradient Boosting => MSE: {:0.2f}, R2: {:0.3f}\".format(MSE[0], R2[0])"
   ]
  },
  {
   "cell_type": "markdown",
   "metadata": {},
   "source": [
    "Grid Search on the AdaBoost obtained a better MSE than the default model (MSE: 10.33). "
   ]
  },
  {
   "cell_type": "markdown",
   "metadata": {},
   "source": [
    "# Implementation of AdaBoosting Classifer"
   ]
  },
  {
   "cell_type": "markdown",
   "metadata": {},
   "source": [
    "## Boosing Implementation in bossting.py"
   ]
  },
  {
   "cell_type": "code",
   "execution_count": 9,
   "metadata": {
    "collapsed": false
   },
   "outputs": [
    {
     "name": "stdout",
     "output_type": "stream",
     "text": [
      "[Errno 2] No such file or directory: 'code'\n",
      "/Users/marvinbertin/Github/GalvanizeU/DSCI6003-student/week6/6.1/boosting_practicum/code\n"
     ]
    }
   ],
   "source": [
    "cd code"
   ]
  },
  {
   "cell_type": "markdown",
   "metadata": {},
   "source": [
    "## Comparing my implementation to sklearn's"
   ]
  },
  {
   "cell_type": "code",
   "execution_count": 8,
   "metadata": {
    "collapsed": false
   },
   "outputs": [
    {
     "name": "stdout",
     "output_type": "stream",
     "text": [
      "Accurracy of my adaboost: 0.946133796699\n",
      "Accuracy of sklearn: 0.943527367507\n"
     ]
    }
   ],
   "source": [
    "!python run_boosting.py"
   ]
  },
  {
   "cell_type": "code",
   "execution_count": null,
   "metadata": {
    "collapsed": true
   },
   "outputs": [],
   "source": []
  }
 ],
 "metadata": {
  "kernelspec": {
   "display_name": "Python 2",
   "language": "python",
   "name": "python2"
  },
  "language_info": {
   "codemirror_mode": {
    "name": "ipython",
    "version": 2
   },
   "file_extension": ".py",
   "mimetype": "text/x-python",
   "name": "python",
   "nbconvert_exporter": "python",
   "pygments_lexer": "ipython2",
   "version": "2.7.10"
  }
 },
 "nbformat": 4,
 "nbformat_minor": 0
}
