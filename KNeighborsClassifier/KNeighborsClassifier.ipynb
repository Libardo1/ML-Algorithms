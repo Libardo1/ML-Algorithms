{
 "cells": [
  {
   "cell_type": "markdown",
   "metadata": {},
   "source": [
    "# KNeighbors  Classifier Python Implementation"
   ]
  },
  {
   "cell_type": "code",
   "execution_count": 6,
   "metadata": {
    "collapsed": true
   },
   "outputs": [],
   "source": [
    "import numpy as np\n",
    "from collections import Counter\n",
    "import matplotlib.pyplot as plt\n",
    "from matplotlib.colors import ListedColormap\n",
    "from sklearn import neighbors, datasets\n",
    "%matplotlib inline"
   ]
  },
  {
   "cell_type": "code",
   "execution_count": 7,
   "metadata": {
    "collapsed": true
   },
   "outputs": [],
   "source": [
    "def euclidean_distance(a, b):\n",
    "    # translate the function written above directly into code given two lists \n",
    "    # or vectors a and b. If you wish to use numpy vector math, you'll need to ensure that \n",
    "    # these two vectors are np.array()s\n",
    "    \n",
    "    #return the distance (a single scalar)\n",
    "    return np.linalg.norm(a - b)\n",
    "\n",
    "def cosine_distance(a, b):\n",
    "    # translate the function written above directly into code given two lists \n",
    "    # or vectors a and b. If you wish to use numpy vector math, you'll need to ensure that \n",
    "    # these two vectors are np.array()s\n",
    "    \n",
    "    #return the distance (a single scalar)\n",
    "    return a.dot(b.T) / (np.linalg.norm(a) * np.linalg.norm(b))"
   ]
  },
  {
   "cell_type": "code",
   "execution_count": 8,
   "metadata": {
    "collapsed": true
   },
   "outputs": [],
   "source": [
    "class KNearestNeighbors(object):\n",
    "    def __init__(self, k=5, distance=euclidean_distance):\n",
    "        #**You'll need to store k and distance as attributes of the class\n",
    "        self.k = k\n",
    "        self.distance = distance # distance function\n",
    "\n",
    "    def fit(self, X, y):\n",
    "        #**Here the intake values are stored as training members of the class\n",
    "        self.X_train = X\n",
    "        self.y_train = y\n",
    "\n",
    "    def predict(self, X_predict):\n",
    "        \n",
    "        # Recall that this is a new X and it needs to be the same number of data points as \n",
    "        # the training X\n",
    "        #X_predict = X_predict.reshape( (-1, self.X_train.shape[1]) )\n",
    "        X_predict = X_predict[:,:self.X_train.shape[1]]\n",
    "        distances = np.zeros((X_predict.shape[0], self.X_train.shape[0]))\n",
    "        \n",
    "        # **You'll need to calculate the distances between each of the training set\n",
    "        # and prediction set values\n",
    "        \n",
    "        for i, x in enumerate(X_predict):\n",
    "            for j, x_train in enumerate(self.X_train):\n",
    "                \n",
    "                #** Calculation of distance goes here\n",
    "                distances[i][j] = self.distance(x, x_train)\n",
    "                \n",
    "\n",
    "        # **Now you'll need to sort the distances and \n",
    "        # take the top k members of self.y_train with the smallest distances to each x_i\n",
    "                \n",
    "        top_k = self.y_train[distances.argsort()[:,:self.k]]\n",
    "        result = np.zeros(X_predict.shape[0])\n",
    "        for i, values in enumerate(top_k):\n",
    "            #** recall that self.y_train stores the classes we trained the model for, \n",
    "            # what we need to return for each of the X_predict is the most likely class it is \n",
    "            # amongst the top k. \n",
    "            # This is a good place to use a Counter to determine the .most_common(1)[0][0] element\n",
    "            result[i] = Counter(values).most_common(1)[0][0]\n",
    "        return result"
   ]
  },
  {
   "cell_type": "code",
   "execution_count": 9,
   "metadata": {
    "collapsed": true
   },
   "outputs": [],
   "source": [
    "def error_rate(y_test, y_pred):\n",
    "    return np.mean(y_test != y_pred)\n",
    "\n",
    "def accuracy(y_test, y_pred):\n",
    "    return np.mean(y_test == y_pred)"
   ]
  },
  {
   "cell_type": "code",
   "execution_count": 13,
   "metadata": {
    "collapsed": true
   },
   "outputs": [],
   "source": [
    "def plot_decision_boundary(X, y, predict_func):\n",
    "    # Plot the decision boundary. For that, we will assign a color to each\n",
    "    # point in the mesh [x_min, m_max]x[y_min, y_max].\n",
    "    h = .02\n",
    "    cmap_light = ListedColormap(['#FFAAAA', '#AAFFAA', '#AAAAFF'])\n",
    "    cmap_bold = ListedColormap(['#FF0000', '#00FF00', '#0000FF'])\n",
    "\n",
    "    x_min, x_max = X[:, 0].min() - 1, X[:, 0].max() + 1\n",
    "    y_min, y_max = X[:, 1].min() - 1, X[:, 1].max() + 1\n",
    "    xx, yy = np.meshgrid(np.arange(x_min, x_max, h),\n",
    "                         np.arange(y_min, y_max, h))\n",
    "    Z = predict_func(np.c_[xx.ravel(), yy.ravel()])\n",
    "\n",
    "    # Put the result into a color plot\n",
    "    Z = Z.reshape(xx.shape)\n",
    "    plt.figure()\n",
    "    plt.pcolormesh(xx, yy, Z, cmap=cmap_light)\n",
    "\n",
    "    # Plot also the training points\n",
    "    plt.scatter(X[:, 0], X[:, 1], c=y, cmap=cmap_bold)\n",
    "    plt.xlim(xx.min(), xx.max())\n",
    "    plt.ylim(yy.min(), yy.max())\n",
    "    #plt.title(\"3-Class classification (k = %i, weights = '%s')\"\n",
    "              #% (n_neighbors, weights))\n",
    "\n",
    "    return plt.show()"
   ]
  },
  {
   "cell_type": "code",
   "execution_count": 10,
   "metadata": {
    "collapsed": true
   },
   "outputs": [],
   "source": [
    "iris = datasets.load_iris()\n",
    "# import some data to play with\n",
    "iris = datasets.load_iris()\n",
    "X = iris.data[:, :2]  # we only take the first two features. We could\n",
    "                      # avoid this ugly slicing by using a two-dim dataset\n",
    "y = iris.target"
   ]
  },
  {
   "cell_type": "code",
   "execution_count": 12,
   "metadata": {
    "collapsed": false
   },
   "outputs": [
    {
     "name": "stdout",
     "output_type": "stream",
     "text": [
      "Accuracy of our model: 0.846666666667\n",
      "Accuracy of sklearn: 0.833333333333\n",
      "Error rate of our model: 0.153333333333\n"
     ]
    }
   ],
   "source": [
    "n_neighbors = 5\n",
    "knn = KNearestNeighbors(k=n_neighbors, distance=euclidean_distance)\n",
    "knn.fit(X, y)\n",
    "knn_pred_y = knn.predict(X)\n",
    "\n",
    "clf = neighbors.KNeighborsClassifier(n_neighbors)\n",
    "clf.fit(X, y)\n",
    "clf_pred_y = clf.predict(X)\n",
    "\n",
    "print \"Accuracy of our model:\", accuracy(knn_pred_y, y)\n",
    "print \"Accuracy of sklearn:\", accuracy(clf_pred_y, y)\n",
    "print \"Error rate of our model:\", error_rate(knn_pred_y, y)"
   ]
  },
  {
   "cell_type": "code",
   "execution_count": 14,
   "metadata": {
    "collapsed": false
   },
   "outputs": [
    {
     "data": {
      "image/png": "[encoded data removed]",
      "text/plain": [
       "<matplotlib.figure.Figure at 0x10e0b6f50>"
      ]
     },
     "metadata": {},
     "output_type": "display_data"
    }
   ],
   "source": [
    "# sklearn model\n",
    "plot_decision_boundary(X, y, lambda x: clf.predict(x))"
   ]
  },
  {
   "cell_type": "code",
   "execution_count": 15,
   "metadata": {
    "collapsed": false
   },
   "outputs": [
    {
     "data": {
      "image/png": "[encoded data removed]",
      "text/plain": [
       "<matplotlib.figure.Figure at 0x10e0e17d0>"
      ]
     },
     "metadata": {},
     "output_type": "display_data"
    }
   ],
   "source": [
    "# our data\n",
    "plot_decision_boundary(X, y, lambda x: knn.predict(x))"
   ]
  },
  {
   "cell_type": "code",
   "execution_count": 16,
   "metadata": {
    "collapsed": false
   },
   "outputs": [
    {
     "name": "stdout",
     "output_type": "stream",
     "text": [
      "             precision    recall  f1-score   support\n",
      "\n",
      "          0       1.00      0.98      0.99        50\n",
      "          1       0.79      0.74      0.76        50\n",
      "          2       0.76      0.82      0.79        50\n",
      "\n",
      "avg / total       0.85      0.85      0.85       150\n",
      "\n",
      "[[49  1  0]\n",
      " [ 0 37 13]\n",
      " [ 0  9 41]]\n"
     ]
    }
   ],
   "source": [
    "from sklearn import metrics\n",
    "print metrics.classification_report(y, knn_pred_y)\n",
    "print metrics.confusion_matrix(y, knn_pred_y)"
   ]
  }
 ],
 "metadata": {
  "kernelspec": {
   "display_name": "Python 2",
   "language": "python",
   "name": "python2"
  },
  "language_info": {
   "codemirror_mode": {
    "name": "ipython",
    "version": 2
   },
   "file_extension": ".py",
   "mimetype": "text/x-python",
   "name": "python",
   "nbconvert_exporter": "python",
   "pygments_lexer": "ipython2",
   "version": "2.7.10"
  }
 },
 "nbformat": 4,
 "nbformat_minor": 0
}
